{
  "nbformat": 4,
  "nbformat_minor": 0,
  "metadata": {
    "colab": {
      "name": "liver_disease.ipynb",
      "provenance": []
    },
    "kernelspec": {
      "name": "python3",
      "display_name": "Python 3"
    }
  },
  "cells": [
    {
      "cell_type": "code",
      "metadata": {
        "id": "Y7OSL42vHO16",
        "colab_type": "code",
        "colab": {}
      },
      "source": [
        "import numpy as np\n",
        "import pandas as pd\n",
        "from sklearn.model_selection import train_test_split\n",
        "from sklearn.naive_bayes import GaussianNB\n",
        "from sklearn.naive_bayes import MultinomialNB\n",
        "from sklearn.svm import LinearSVC\n",
        "from sklearn.metrics import accuracy_score\n",
        "from sklearn.preprocessing import StandardScaler\n",
        "import pickle"
      ],
      "execution_count": null,
      "outputs": []
    },
    {
      "cell_type": "code",
      "metadata": {
        "id": "8FmK67LFIEbe",
        "colab_type": "code",
        "colab": {}
      },
      "source": [
        "df = pd.read_csv('/content/Training (copy).csv')\n",
        "\n",
        "df=df.dropna()"
      ],
      "execution_count": null,
      "outputs": []
    },
    {
      "cell_type": "code",
      "metadata": {
        "id": "Kge8BR9XIMfI",
        "colab_type": "code",
        "colab": {
          "base_uri": "https://localhost:8080/",
          "height": 435
        },
        "outputId": "e05670a9-98e8-4f8e-e448-f4885dfac73d"
      },
      "source": [
        "df.head()"
      ],
      "execution_count": null,
      "outputs": [
        {
          "output_type": "execute_result",
          "data": {
            "text/html": [
              "<div>\n",
              "<style scoped>\n",
              "    .dataframe tbody tr th:only-of-type {\n",
              "        vertical-align: middle;\n",
              "    }\n",
              "\n",
              "    .dataframe tbody tr th {\n",
              "        vertical-align: top;\n",
              "    }\n",
              "\n",
              "    .dataframe thead th {\n",
              "        text-align: right;\n",
              "    }\n",
              "</style>\n",
              "<table border=\"1\" class=\"dataframe\">\n",
              "  <thead>\n",
              "    <tr style=\"text-align: right;\">\n",
              "      <th></th>\n",
              "      <th>Age</th>\n",
              "      <th>Gender</th>\n",
              "      <th>Jaundice</th>\n",
              "      <th>Acitis</th>\n",
              "      <th>Hepatic Encephalopathy</th>\n",
              "      <th>Fever</th>\n",
              "      <th>Weakness</th>\n",
              "      <th>Drawsiness</th>\n",
              "      <th>Nausea</th>\n",
              "      <th>Hypertension</th>\n",
              "      <th>Abdominal Distension</th>\n",
              "      <th>Decreased urine o/p</th>\n",
              "      <th>Altered Sensorium</th>\n",
              "      <th>Abdominal pain</th>\n",
              "      <th>Breathlessness</th>\n",
              "      <th>Cough</th>\n",
              "      <th>GI bleed</th>\n",
              "      <th>Leg swelling(pedel oedema)</th>\n",
              "      <th>Disease</th>\n",
              "    </tr>\n",
              "  </thead>\n",
              "  <tbody>\n",
              "    <tr>\n",
              "      <th>0</th>\n",
              "      <td>0</td>\n",
              "      <td>1</td>\n",
              "      <td>0</td>\n",
              "      <td>1</td>\n",
              "      <td>0</td>\n",
              "      <td>0</td>\n",
              "      <td>0</td>\n",
              "      <td>0</td>\n",
              "      <td>0</td>\n",
              "      <td>0</td>\n",
              "      <td>0</td>\n",
              "      <td>1</td>\n",
              "      <td>0</td>\n",
              "      <td>0</td>\n",
              "      <td>0</td>\n",
              "      <td>0</td>\n",
              "      <td>0</td>\n",
              "      <td>1</td>\n",
              "      <td>CHRONIC LIVER DISEASE</td>\n",
              "    </tr>\n",
              "    <tr>\n",
              "      <th>1</th>\n",
              "      <td>2</td>\n",
              "      <td>0</td>\n",
              "      <td>0</td>\n",
              "      <td>0</td>\n",
              "      <td>0</td>\n",
              "      <td>0</td>\n",
              "      <td>0</td>\n",
              "      <td>0</td>\n",
              "      <td>0</td>\n",
              "      <td>0</td>\n",
              "      <td>1</td>\n",
              "      <td>0</td>\n",
              "      <td>1</td>\n",
              "      <td>0</td>\n",
              "      <td>1</td>\n",
              "      <td>1</td>\n",
              "      <td>0</td>\n",
              "      <td>1</td>\n",
              "      <td>CHRONIC LIVER DISEASE</td>\n",
              "    </tr>\n",
              "    <tr>\n",
              "      <th>2</th>\n",
              "      <td>0</td>\n",
              "      <td>1</td>\n",
              "      <td>0</td>\n",
              "      <td>0</td>\n",
              "      <td>0</td>\n",
              "      <td>0</td>\n",
              "      <td>1</td>\n",
              "      <td>0</td>\n",
              "      <td>1</td>\n",
              "      <td>0</td>\n",
              "      <td>0</td>\n",
              "      <td>0</td>\n",
              "      <td>0</td>\n",
              "      <td>0</td>\n",
              "      <td>1</td>\n",
              "      <td>1</td>\n",
              "      <td>0</td>\n",
              "      <td>0</td>\n",
              "      <td>CHRONIC LIVER DISEASE</td>\n",
              "    </tr>\n",
              "    <tr>\n",
              "      <th>3</th>\n",
              "      <td>1</td>\n",
              "      <td>0</td>\n",
              "      <td>1</td>\n",
              "      <td>0</td>\n",
              "      <td>1</td>\n",
              "      <td>0</td>\n",
              "      <td>0</td>\n",
              "      <td>0</td>\n",
              "      <td>0</td>\n",
              "      <td>0</td>\n",
              "      <td>0</td>\n",
              "      <td>0</td>\n",
              "      <td>1</td>\n",
              "      <td>1</td>\n",
              "      <td>0</td>\n",
              "      <td>0</td>\n",
              "      <td>1</td>\n",
              "      <td>0</td>\n",
              "      <td>CHRONIC LIVER DISEASE</td>\n",
              "    </tr>\n",
              "    <tr>\n",
              "      <th>4</th>\n",
              "      <td>0</td>\n",
              "      <td>1</td>\n",
              "      <td>1</td>\n",
              "      <td>1</td>\n",
              "      <td>0</td>\n",
              "      <td>0</td>\n",
              "      <td>0</td>\n",
              "      <td>0</td>\n",
              "      <td>0</td>\n",
              "      <td>0</td>\n",
              "      <td>0</td>\n",
              "      <td>1</td>\n",
              "      <td>0</td>\n",
              "      <td>0</td>\n",
              "      <td>0</td>\n",
              "      <td>0</td>\n",
              "      <td>0</td>\n",
              "      <td>1</td>\n",
              "      <td>CHRONIC LIVER DISEASE</td>\n",
              "    </tr>\n",
              "  </tbody>\n",
              "</table>\n",
              "</div>"
            ],
            "text/plain": [
              "   Age  Gender  ...  Leg swelling(pedel oedema)                 Disease\n",
              "0    0       1  ...                           1   CHRONIC LIVER DISEASE\n",
              "1    2       0  ...                           1   CHRONIC LIVER DISEASE\n",
              "2    0       1  ...                           0   CHRONIC LIVER DISEASE\n",
              "3    1       0  ...                           0   CHRONIC LIVER DISEASE\n",
              "4    0       1  ...                           1   CHRONIC LIVER DISEASE\n",
              "\n",
              "[5 rows x 19 columns]"
            ]
          },
          "metadata": {
            "tags": []
          },
          "execution_count": 145
        }
      ]
    },
    {
      "cell_type": "code",
      "metadata": {
        "id": "vr5jk3bqISs7",
        "colab_type": "code",
        "colab": {}
      },
      "source": [
        "x=df.drop('Disease', axis=1)"
      ],
      "execution_count": null,
      "outputs": []
    },
    {
      "cell_type": "code",
      "metadata": {
        "id": "tMGiPJU9Iug0",
        "colab_type": "code",
        "colab": {
          "base_uri": "https://localhost:8080/",
          "height": 261
        },
        "outputId": "b4f60dba-cc34-4dfc-a5cb-c8bc6afd09b3"
      },
      "source": [
        "x.head()"
      ],
      "execution_count": null,
      "outputs": [
        {
          "output_type": "execute_result",
          "data": {
            "text/html": [
              "<div>\n",
              "<style scoped>\n",
              "    .dataframe tbody tr th:only-of-type {\n",
              "        vertical-align: middle;\n",
              "    }\n",
              "\n",
              "    .dataframe tbody tr th {\n",
              "        vertical-align: top;\n",
              "    }\n",
              "\n",
              "    .dataframe thead th {\n",
              "        text-align: right;\n",
              "    }\n",
              "</style>\n",
              "<table border=\"1\" class=\"dataframe\">\n",
              "  <thead>\n",
              "    <tr style=\"text-align: right;\">\n",
              "      <th></th>\n",
              "      <th>Age</th>\n",
              "      <th>Gender</th>\n",
              "      <th>Jaundice</th>\n",
              "      <th>Acitis</th>\n",
              "      <th>Hepatic Encephalopathy</th>\n",
              "      <th>Fever</th>\n",
              "      <th>Weakness</th>\n",
              "      <th>Drawsiness</th>\n",
              "      <th>Nausea</th>\n",
              "      <th>Hypertension</th>\n",
              "      <th>Abdominal Distension</th>\n",
              "      <th>Decreased urine o/p</th>\n",
              "      <th>Altered Sensorium</th>\n",
              "      <th>Abdominal pain</th>\n",
              "      <th>Breathlessness</th>\n",
              "      <th>Cough</th>\n",
              "      <th>GI bleed</th>\n",
              "      <th>Leg swelling(pedel oedema)</th>\n",
              "    </tr>\n",
              "  </thead>\n",
              "  <tbody>\n",
              "    <tr>\n",
              "      <th>0</th>\n",
              "      <td>0</td>\n",
              "      <td>1</td>\n",
              "      <td>0</td>\n",
              "      <td>1</td>\n",
              "      <td>0</td>\n",
              "      <td>0</td>\n",
              "      <td>0</td>\n",
              "      <td>0</td>\n",
              "      <td>0</td>\n",
              "      <td>0</td>\n",
              "      <td>0</td>\n",
              "      <td>1</td>\n",
              "      <td>0</td>\n",
              "      <td>0</td>\n",
              "      <td>0</td>\n",
              "      <td>0</td>\n",
              "      <td>0</td>\n",
              "      <td>1</td>\n",
              "    </tr>\n",
              "    <tr>\n",
              "      <th>1</th>\n",
              "      <td>2</td>\n",
              "      <td>0</td>\n",
              "      <td>0</td>\n",
              "      <td>0</td>\n",
              "      <td>0</td>\n",
              "      <td>0</td>\n",
              "      <td>0</td>\n",
              "      <td>0</td>\n",
              "      <td>0</td>\n",
              "      <td>0</td>\n",
              "      <td>1</td>\n",
              "      <td>0</td>\n",
              "      <td>1</td>\n",
              "      <td>0</td>\n",
              "      <td>1</td>\n",
              "      <td>1</td>\n",
              "      <td>0</td>\n",
              "      <td>1</td>\n",
              "    </tr>\n",
              "    <tr>\n",
              "      <th>2</th>\n",
              "      <td>0</td>\n",
              "      <td>1</td>\n",
              "      <td>0</td>\n",
              "      <td>0</td>\n",
              "      <td>0</td>\n",
              "      <td>0</td>\n",
              "      <td>1</td>\n",
              "      <td>0</td>\n",
              "      <td>1</td>\n",
              "      <td>0</td>\n",
              "      <td>0</td>\n",
              "      <td>0</td>\n",
              "      <td>0</td>\n",
              "      <td>0</td>\n",
              "      <td>1</td>\n",
              "      <td>1</td>\n",
              "      <td>0</td>\n",
              "      <td>0</td>\n",
              "    </tr>\n",
              "    <tr>\n",
              "      <th>3</th>\n",
              "      <td>1</td>\n",
              "      <td>0</td>\n",
              "      <td>1</td>\n",
              "      <td>0</td>\n",
              "      <td>1</td>\n",
              "      <td>0</td>\n",
              "      <td>0</td>\n",
              "      <td>0</td>\n",
              "      <td>0</td>\n",
              "      <td>0</td>\n",
              "      <td>0</td>\n",
              "      <td>0</td>\n",
              "      <td>1</td>\n",
              "      <td>1</td>\n",
              "      <td>0</td>\n",
              "      <td>0</td>\n",
              "      <td>1</td>\n",
              "      <td>0</td>\n",
              "    </tr>\n",
              "    <tr>\n",
              "      <th>4</th>\n",
              "      <td>0</td>\n",
              "      <td>1</td>\n",
              "      <td>1</td>\n",
              "      <td>1</td>\n",
              "      <td>0</td>\n",
              "      <td>0</td>\n",
              "      <td>0</td>\n",
              "      <td>0</td>\n",
              "      <td>0</td>\n",
              "      <td>0</td>\n",
              "      <td>0</td>\n",
              "      <td>1</td>\n",
              "      <td>0</td>\n",
              "      <td>0</td>\n",
              "      <td>0</td>\n",
              "      <td>0</td>\n",
              "      <td>0</td>\n",
              "      <td>1</td>\n",
              "    </tr>\n",
              "  </tbody>\n",
              "</table>\n",
              "</div>"
            ],
            "text/plain": [
              "   Age  Gender  Jaundice  ...  Cough  GI bleed  Leg swelling(pedel oedema)\n",
              "0    0       1         0  ...      0         0                           1\n",
              "1    2       0         0  ...      1         0                           1\n",
              "2    0       1         0  ...      1         0                           0\n",
              "3    1       0         1  ...      0         1                           0\n",
              "4    0       1         1  ...      0         0                           1\n",
              "\n",
              "[5 rows x 18 columns]"
            ]
          },
          "metadata": {
            "tags": []
          },
          "execution_count": 147
        }
      ]
    },
    {
      "cell_type": "code",
      "metadata": {
        "id": "XK_AFpTBIvMl",
        "colab_type": "code",
        "colab": {}
      },
      "source": [
        "y=df['Disease']"
      ],
      "execution_count": null,
      "outputs": []
    },
    {
      "cell_type": "code",
      "metadata": {
        "id": "t8pTQ9rQI0C-",
        "colab_type": "code",
        "colab": {
          "base_uri": "https://localhost:8080/",
          "height": 816
        },
        "outputId": "420cfa43-ed02-4384-972c-9d0fb7fa34a1"
      },
      "source": [
        "y"
      ],
      "execution_count": null,
      "outputs": [
        {
          "output_type": "execute_result",
          "data": {
            "text/plain": [
              "0      CHRONIC LIVER DISEASE\n",
              "1      CHRONIC LIVER DISEASE\n",
              "2      CHRONIC LIVER DISEASE\n",
              "3      CHRONIC LIVER DISEASE\n",
              "4      CHRONIC LIVER DISEASE\n",
              "5      CHRONIC LIVER DISEASE\n",
              "6      CHRONIC LIVER DISEASE\n",
              "7      CHRONIC LIVER DISEASE\n",
              "8      CHRONIC LIVER DISEASE\n",
              "9      CHRONIC LIVER DISEASE\n",
              "10     CHRONIC LIVER DISEASE\n",
              "11       ACUTE LIVER FAILURE\n",
              "12       ACUTE LIVER FAILURE\n",
              "13       ACUTE LIVER FAILURE\n",
              "14       ACUTE LIVER FAILURE\n",
              "15       ACUTE LIVER FAILURE\n",
              "16     CHRONIC LIVER DISEASE\n",
              "17     CHRONIC LIVER DISEASE\n",
              "18     CHRONIC LIVER FAILURE\n",
              "19     CHRONIC LIVER FAILURE\n",
              "20     CHRONIC LIVER FAILURE\n",
              "21     CHRONIC LIVER FAILURE\n",
              "22     CHRONIC LIVER FAILURE\n",
              "23     CHRONIC LIVER FAILURE\n",
              "24     CHRONIC LIVER FAILURE\n",
              "25     CHRONIC LIVER FAILURE\n",
              "26     CHRONIC LIVER FAILURE\n",
              "27     CHRONIC LIVER FAILURE\n",
              "28     CHRONIC LIVER FAILURE\n",
              "29     CHRONIC LIVER FAILURE\n",
              "30     CHRONIC LIVER FAILURE\n",
              "31     CHRONIC LIVER FAILURE\n",
              "32     CHRONIC LIVER FAILURE\n",
              "33     CHRONIC LIVER FAILURE\n",
              "34     CHRONIC LIVER FAILURE\n",
              "35     CHRONIC LIVER FAILURE\n",
              "36     CHRONIC LIVER FAILURE\n",
              "37           LIVER CIRRHOSIS\n",
              "38           LIVER CIRRHOSIS\n",
              "39           LIVER CIRRHOSIS\n",
              "40     CHRONIC LIVER DISEASE\n",
              "41     CHRONIC LIVER DISEASE\n",
              "42     CHRONIC LIVER DISEASE\n",
              "43       ACUTE LIVER FAILURE\n",
              "44       ACUTE LIVER FAILURE\n",
              "Name: Disease, dtype: object"
            ]
          },
          "metadata": {
            "tags": []
          },
          "execution_count": 149
        }
      ]
    },
    {
      "cell_type": "code",
      "metadata": {
        "id": "glmqxMOvI56Q",
        "colab_type": "code",
        "colab": {}
      },
      "source": [
        "x_train, x_test, y_train, y_test = train_test_split(x, y, test_size=0.15, random_state=42)\n"
      ],
      "execution_count": null,
      "outputs": []
    },
    {
      "cell_type": "code",
      "metadata": {
        "id": "UXSPidvRSQNN",
        "colab_type": "code",
        "colab": {}
      },
      "source": [
        ""
      ],
      "execution_count": null,
      "outputs": []
    },
    {
      "cell_type": "code",
      "metadata": {
        "id": "xzWJYuxpSTB7",
        "colab_type": "code",
        "colab": {}
      },
      "source": [
        "#model= MultinomialNB()\n",
        "model= GaussianNB()\n",
        "  "
      ],
      "execution_count": null,
      "outputs": []
    },
    {
      "cell_type": "code",
      "metadata": {
        "id": "WWGSSS5HSWFs",
        "colab_type": "code",
        "colab": {
          "base_uri": "https://localhost:8080/",
          "height": 86
        },
        "outputId": "2d23709a-3e14-429b-f7ef-3dfb110b4377"
      },
      "source": [
        "model.fit(x_train, y_train)\n",
        "y_pred = model.predict(x_test)\n",
        "y_pred"
      ],
      "execution_count": null,
      "outputs": [
        {
          "output_type": "execute_result",
          "data": {
            "text/plain": [
              "array(['CHRONIC LIVER FAILURE', ' CHRONIC LIVER DISEASE',\n",
              "       'CHRONIC LIVER DISEASE', ' CHRONIC LIVER DISEASE',\n",
              "       'CHRONIC LIVER FAILURE', 'CHRONIC LIVER DISEASE',\n",
              "       ' CHRONIC LIVER DISEASE'], dtype='<U22')"
            ]
          },
          "metadata": {
            "tags": []
          },
          "execution_count": 152
        }
      ]
    },
    {
      "cell_type": "code",
      "metadata": {
        "id": "NXxFe2kISZkg",
        "colab_type": "code",
        "colab": {
          "base_uri": "https://localhost:8080/",
          "height": 34
        },
        "outputId": "8b460350-1cb1-4945-f8ee-644bbb7ffd24"
      },
      "source": [
        "a= accuracy_score(y_test, y_pred)*100\n",
        "\n",
        "a"
      ],
      "execution_count": null,
      "outputs": [
        {
          "output_type": "execute_result",
          "data": {
            "text/plain": [
              "42.857142857142854"
            ]
          },
          "metadata": {
            "tags": []
          },
          "execution_count": 153
        }
      ]
    },
    {
      "cell_type": "code",
      "metadata": {
        "id": "wGK_U7oAclQ7",
        "colab_type": "code",
        "colab": {}
      },
      "source": [
        "pkl_filename=\"saved_model.pkl\"\n",
        "\n"
      ],
      "execution_count": null,
      "outputs": []
    },
    {
      "cell_type": "code",
      "metadata": {
        "id": "8058DJsqKo8l",
        "colab_type": "code",
        "colab": {}
      },
      "source": [
        "with open(pkl_filename, 'wb') as file:\n",
        "\n",
        "  pickle.dump(model, file, protocol=2)"
      ],
      "execution_count": null,
      "outputs": []
    }
  ]
}